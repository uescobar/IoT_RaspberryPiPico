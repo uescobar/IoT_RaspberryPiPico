{
 "cells": [
  {
   "cell_type": "markdown",
   "id": "aa4762ac",
   "metadata": {},
   "source": [
    "## Arquitectura IoT\n",
    "\n",
    "![01.png](img/01.png)\n",
    "\n",
    "![02.png](img/02.png)\n",
    "\n",
    "\n",
    "### Libreria network, forma de uso\n",
    "\n",
    "```\n",
    "// Libreria\n",
    "import network\n",
    "\n",
    "// Objeto\n",
    "wf = network.WLAN(tipo)\n",
    "# tipo puede ser network.STA_IF, network.AP_IF\n",
    "\n",
    "// Funciones\n",
    "wf.active(True) # False desactivar\n",
    "wf.scan() # devuelve una lista\n",
    "wf.connect(ssid, password)\n",
    "wf.isconnected() # Devuelve True o False\n",
    "wf.config(\"mac\") # devuelve la mac\n",
    "wf.ifconfig() # devuelve ip, netmask, gw, DNS\n",
    "\n",
    "```"
   ]
  },
  {
   "cell_type": "markdown",
   "id": "4437e86e",
   "metadata": {},
   "source": [
    "## Ejemplo 01 Escaneo de todas las redes wifi disponibles\n",
    "\n",
    "\n",
    "#### ahora si, dibujando la espiral\n",
    "**06_ejemplo_01_scan_wifi.py**\n",
    "\n",
    "\n",
    "***\n",
    "```Python\n",
    "\n",
    "import network\n",
    "\n",
    "wf = network.WLAN(network.STA_IF)\n",
    "wf.active(True)\n",
    "lista=wf.scan()\n",
    "\n",
    "for k in lista:\n",
    "    print(k) # mac, ,nivel de señal, ,\n",
    "\n",
    "```\n",
    "***\n",
    "\n",
    "<video width=\"320\" height=\"240\" controls>\n",
    "  <source src=\"video/01.mp4\" type=\"video/mp4\">\n",
    "Your browser does not support the video tag.\n",
    "</video>"
   ]
  }
 ],
 "metadata": {
  "kernelspec": {
   "display_name": "Python 3 (ipykernel)",
   "language": "python",
   "name": "python3"
  },
  "language_info": {
   "codemirror_mode": {
    "name": "ipython",
    "version": 3
   },
   "file_extension": ".py",
   "mimetype": "text/x-python",
   "name": "python",
   "nbconvert_exporter": "python",
   "pygments_lexer": "ipython3",
   "version": "3.9.7"
  }
 },
 "nbformat": 4,
 "nbformat_minor": 5
}

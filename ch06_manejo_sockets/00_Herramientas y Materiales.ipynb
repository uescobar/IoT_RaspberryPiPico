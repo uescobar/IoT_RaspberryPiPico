{
 "cells": [
  {
   "cell_type": "markdown",
   "id": "428c270b",
   "metadata": {},
   "source": [
    "## Lista de materiales\n",
    "\n",
    "* Pantalla Lcd 16x2 + Modulo I2c Soldado, Fondo Azul Ajustable\n",
    "* Display Oled 0.96 I2c Pantalla Azul 128x64\n",
    "* cables \n",
    "\n",
    "\n",
    "\n",
    "https://www.digikey.com.mx/es/resources/conversion-calculators/conversion-calculator-resistor-color-code"
   ]
  }
 ],
 "metadata": {
  "kernelspec": {
   "display_name": "Python 3 (ipykernel)",
   "language": "python",
   "name": "python3"
  },
  "language_info": {
   "codemirror_mode": {
    "name": "ipython",
    "version": 3
   },
   "file_extension": ".py",
   "mimetype": "text/x-python",
   "name": "python",
   "nbconvert_exporter": "python",
   "pygments_lexer": "ipython3",
   "version": "3.9.7"
  }
 },
 "nbformat": 4,
 "nbformat_minor": 5
}

{
 "cells": [
  {
   "cell_type": "markdown",
   "id": "1b908b83",
   "metadata": {},
   "source": [
    "## Lista de materiales\n",
    "\n",
    "* Sensor te temperatura LM35\n",
    "* Fotoresistencia\n",
    "* 1 resistencia de 10Kohms\n",
    "* 4 led \n",
    "* 4 resistencia de 220 ohms\n",
    "* modulo dht11\n",
    "* módulo HC-SR04 (HC-SR04P)\n",
    "\n",
    "\n",
    "* cables \n",
    "\n",
    "\n",
    "\n",
    "https://www.digikey.com.mx/es/resources/conversion-calculators/conversion-calculator-resistor-color-code"
   ]
  }
 ],
 "metadata": {
  "kernelspec": {
   "display_name": "Python 3 (ipykernel)",
   "language": "python",
   "name": "python3"
  },
  "language_info": {
   "codemirror_mode": {
    "name": "ipython",
    "version": 3
   },
   "file_extension": ".py",
   "mimetype": "text/x-python",
   "name": "python",
   "nbconvert_exporter": "python",
   "pygments_lexer": "ipython3",
   "version": "3.9.7"
  }
 },
 "nbformat": 4,
 "nbformat_minor": 5
}

{
 "cells": [
  {
   "cell_type": "markdown",
   "id": "bf2a2da5",
   "metadata": {},
   "source": [
    "## Lista de materiales\n",
    "\n",
    "* 4 leds rojos\n",
    "* 4 resistencias de 220 ohms\n",
    "* 1 potenciometro de 10 kohms\n",
    "* 1 servo motor 9g\n",
    "* cables \n"
   ]
  }
 ],
 "metadata": {
  "kernelspec": {
   "display_name": "Python 3 (ipykernel)",
   "language": "python",
   "name": "python3"
  },
  "language_info": {
   "codemirror_mode": {
    "name": "ipython",
    "version": 3
   },
   "file_extension": ".py",
   "mimetype": "text/x-python",
   "name": "python",
   "nbconvert_exporter": "python",
   "pygments_lexer": "ipython3",
   "version": "3.9.7"
  }
 },
 "nbformat": 4,
 "nbformat_minor": 5
}

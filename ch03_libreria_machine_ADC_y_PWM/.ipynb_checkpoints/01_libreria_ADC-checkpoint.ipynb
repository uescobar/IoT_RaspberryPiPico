{
 "cells": [
  {
   "cell_type": "markdown",
   "id": "1b1d9864",
   "metadata": {},
   "source": [
    "# Libreria ADC\n",
    "\n",
    "Es un conversor Analógico Digital, en el pin físico 31, 32 y 34, ADC0, ADC1 y ADC2, respectivamente.\n",
    "\n",
    "**La entrada analógica va a ser un valor entre 0 a 3.3 (3.3 volts).**\n",
    "\n",
    "![img01](img/01.png)\n",
    "\n",
    "La libreria machine en su parte ADC nos permite trabajar con valores analógicos.\n",
    "\n",
    "El ADC del pico tiene 12 bits, sin embargo, la lectura se hace en una variable **u16**, es decir, el valor leido va a ser desde **0** al **65535**, en la lectura el pico ya hace a conversión automáticamente de una variable de 12 bits a 16 bits quedando el rango de valores como se indicó anteriormente.\n"
   ]
  },
  {
   "cell_type": "code",
   "execution_count": null,
   "id": "c27b53e9",
   "metadata": {},
   "outputs": [],
   "source": [
    "## Ejemplo 01 Lectura de un Potenciometro\n",
    "\n",
    "![img05](img/02.png)\n",
    "\n",
    "**03_ejemplo_01_potenciometro.py**\n",
    "\n",
    "***\n",
    "```Python\n",
    "from machine import ADC\n",
    "import utime\n",
    "\n",
    "adc = ADC(2) # GPIO 28, pin 32\n",
    "\n",
    "while True:\n",
    "    valor = adc.read_u16()\n",
    "    voltaje = valor*3.3/65535\n",
    "    print(valor, ' ', voltaje)\n",
    "    \n",
    "    utime.sleep_ms(200)\n",
    "\n",
    "```\n",
    "***\n",
    "\n",
    "<video width=\"320\" height=\"240\" controls>\n",
    "  <source src=\"video/01.webm\" type=\"video/mp4\">\n",
    "Your browser does not support the video tag.\n",
    "</video>"
   ]
  }
 ],
 "metadata": {
  "kernelspec": {
   "display_name": "Python 3 (ipykernel)",
   "language": "python",
   "name": "python3"
  },
  "language_info": {
   "codemirror_mode": {
    "name": "ipython",
    "version": 3
   },
   "file_extension": ".py",
   "mimetype": "text/x-python",
   "name": "python",
   "nbconvert_exporter": "python",
   "pygments_lexer": "ipython3",
   "version": "3.9.7"
  }
 },
 "nbformat": 4,
 "nbformat_minor": 5
}

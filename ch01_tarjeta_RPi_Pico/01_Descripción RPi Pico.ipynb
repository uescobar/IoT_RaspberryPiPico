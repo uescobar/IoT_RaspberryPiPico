{
 "cells": [
  {
   "cell_type": "markdown",
   "id": "ec4e5cff",
   "metadata": {},
   "source": [
    "# Tarjeta Raspberry Pi Pico y Pico W\n",
    "\n",
    "* Funcionamiento del microcontrolador RP2040, recibe información y envía un resultado, son los puertos de entrada y salida\n",
    "* Los sensores proveen diferente información.\n",
    "* El resultado se refleja en pantallas, motores, leds, etc. Se conocen como actuadores.\n",
    "\n",
    "La información puede ser \n",
    "\n",
    "* Digital (0 y 1)\n",
    "* Analógica (entre 0 y 1)\n",
    "\n",
    "\n",
    "![img01](img/01.png)\n",
    "\n",
    "Las **entradas** se denominan **INPUT**, **IN**\n",
    "\n",
    "Las **salidas** se denominan **OUTPUT**, **OUT**\n",
    "\n",
    "La RPi Pico no tiene salidas analógicas.\n",
    "\n"
   ]
  },
  {
   "cell_type": "markdown",
   "id": "73cbf375",
   "metadata": {},
   "source": [
    "## Descripción de los Pines\n",
    "\n",
    "**La tarjeta trabaja con 3.3v**\n",
    "\n",
    "![img02](img/02.png)"
   ]
  },
  {
   "cell_type": "markdown",
   "id": "9e9b7191",
   "metadata": {},
   "source": [
    "## Características de la Raspberry Pi Pico\n",
    "\n",
    "![img03](img/03.png)"
   ]
  }
 ],
 "metadata": {
  "kernelspec": {
   "display_name": "Python 3 (ipykernel)",
   "language": "python",
   "name": "python3"
  },
  "language_info": {
   "codemirror_mode": {
    "name": "ipython",
    "version": 3
   },
   "file_extension": ".py",
   "mimetype": "text/x-python",
   "name": "python",
   "nbconvert_exporter": "python",
   "pygments_lexer": "ipython3",
   "version": "3.9.7"
  }
 },
 "nbformat": 4,
 "nbformat_minor": 5
}

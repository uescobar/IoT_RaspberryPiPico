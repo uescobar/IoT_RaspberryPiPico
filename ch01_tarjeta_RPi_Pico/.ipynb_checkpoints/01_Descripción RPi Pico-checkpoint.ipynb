{
 "cells": [
  {
   "cell_type": "markdown",
   "id": "ec4e5cff",
   "metadata": {},
   "source": [
    "# Tarjeta Raspberry Pi Pico y Pico W\n",
    "\n",
    "* Funcionamiento del microcontrolador RP2040, recibe información y envía un resultado, son los puertos de entrada y salida\n",
    "* Los sensores proveen diferente información.\n",
    "* El resultado se refleja en pantallas, motores, leds, etc. Se conocen como actuadores.\n",
    "\n",
    "La información puede ser \n",
    "\n",
    "* Digital (0 y 1)\n",
    "* Analógica (entre 0 y 1)\n",
    "\n",
    "\n",
    "![img01](img/01.png)\n",
    "\n",
    "Las **entradas** se denominan **INPUT**, **IN**\n",
    "\n",
    "Las **salidas** se denominan **OUTPUT**, **OUT**\n",
    "\n",
    "La RPi Pico no tiene salidas analógicas.\n",
    "\n"
   ]
  },
  {
   "cell_type": "markdown",
   "id": "73cbf375",
   "metadata": {},
   "source": [
    "## Descripción de los Pines\n",
    "\n",
    "**La tarjeta trabaja con 3.3v**\n",
    "\n",
    "![img02](img/02.png)"
   ]
  },
  {
   "cell_type": "markdown",
   "id": "9e9b7191",
   "metadata": {},
   "source": [
    "## Características de la Raspberry Pi Pico\n",
    "\n",
    "![img03](img/03.png)"
   ]
  },
  {
   "cell_type": "markdown",
   "id": "42e9bdb0",
   "metadata": {},
   "source": [
    "## Entorno de ejecución de Micropython\n",
    "\n",
    "EL entorno por defecto con el que funciona la tarjeta de Rasoberry Pi Pico W es para programación en C, por lo que se debe configurar el funcionamiento de la tarjeta con micropython.\n",
    "\n",
    "Para realizar la configuración, debe seguir los pasos indicandos en:\n",
    "\n",
    "https://www.raspberrypi.com/documentation/microcontrollers/micropython.html"
   ]
  }
 ],
 "metadata": {
  "kernelspec": {
   "display_name": "Python 3 (ipykernel)",
   "language": "python",
   "name": "python3"
  },
  "language_info": {
   "codemirror_mode": {
    "name": "ipython",
    "version": 3
   },
   "file_extension": ".py",
   "mimetype": "text/x-python",
   "name": "python",
   "nbconvert_exporter": "python",
   "pygments_lexer": "ipython3",
   "version": "3.9.7"
  }
 },
 "nbformat": 4,
 "nbformat_minor": 5
}

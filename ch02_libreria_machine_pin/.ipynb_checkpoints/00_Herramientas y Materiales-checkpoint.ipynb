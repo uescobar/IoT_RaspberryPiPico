{
 "cells": [
  {
   "cell_type": "markdown",
   "id": "5059872b",
   "metadata": {},
   "source": [
    "## Herramientas\n",
    "\n",
    "### Thonny IDE\n",
    "\n",
    "Buscar en google Thonny IDE\n",
    "\n",
    "[Thonny IDE] (https://thonny.org/)\n",
    "\n",
    "### Usar MicroPython \n",
    "\n",
    "(Cargar MicroPython)[https://pasionelectronica.com/como-instalar-micropython-en-la-raspberry-pi-pico/]\n",
    "\n",
    "\n",
    "### Simulador\n",
    "\n",
    "(Simulador)[https://wokwi.com/]\n"
   ]
  },
  {
   "cell_type": "markdown",
   "id": "8cc167a5",
   "metadata": {},
   "source": [
    "## Lista de materiales\n",
    "\n",
    "* 4 leds rojos\n",
    "* 4 resistencias de 220 ohms\n",
    "* 1 resisstencia de 10 kohms\n",
    "* 1 push button\n",
    "* cables "
   ]
  }
 ],
 "metadata": {
  "kernelspec": {
   "display_name": "Python 3 (ipykernel)",
   "language": "python",
   "name": "python3"
  },
  "language_info": {
   "codemirror_mode": {
    "name": "ipython",
    "version": 3
   },
   "file_extension": ".py",
   "mimetype": "text/x-python",
   "name": "python",
   "nbconvert_exporter": "python",
   "pygments_lexer": "ipython3",
   "version": "3.9.7"
  }
 },
 "nbformat": 4,
 "nbformat_minor": 5
}
